{
 "cells": [
  {
   "cell_type": "markdown",
   "id": "9a57c4c6",
   "metadata": {},
   "source": [
    "# Eat Safe, Love"
   ]
  },
  {
   "cell_type": "markdown",
   "id": "064ef857",
   "metadata": {},
   "source": [
    "## Notebook Set Up"
   ]
  },
  {
   "cell_type": "code",
   "execution_count": null,
   "id": "3ecdd008",
   "metadata": {},
   "outputs": [],
   "source": [
    "# Import dependencies\n",
    "from pymongo import MongoClient\n",
    "from pprint import pprint"
   ]
  },
  {
   "cell_type": "code",
   "execution_count": null,
   "id": "59390c4a",
   "metadata": {},
   "outputs": [],
   "source": [
    "# Create an instance of MongoClient\n",
    "mongo = MongoClient(port=27017)"
   ]
  },
  {
   "cell_type": "code",
   "execution_count": null,
   "id": "71e373c1",
   "metadata": {},
   "outputs": [],
   "source": [
    "# assign the uk_food database to a variable name\n",
    "db = mongo['uk_food']"
   ]
  },
  {
   "cell_type": "code",
   "execution_count": null,
   "id": "18ab463c",
   "metadata": {},
   "outputs": [],
   "source": [
    "# review the collections in our database\n",
    "collections = db.list_collection_names()\n",
    "\n",
    "for collection in collections:\n",
    "    print(collection)"
   ]
  },
  {
   "cell_type": "code",
   "execution_count": null,
   "id": "11c9f11b",
   "metadata": {},
   "outputs": [],
   "source": [
    "# assign the collection to a variable\n",
    "establishments = db['establishments']"
   ]
  },
  {
   "cell_type": "markdown",
   "id": "d5671434",
   "metadata": {},
   "source": [
    "## Part 3: Exploratory Analysis\n",
    "Unless otherwise stated, for each question: \n",
    "* Use `count_documents` to display the number of documents contained in the result.\n",
    "* Display the first document in the results using `pprint`.\n",
    "* Convert the result to a Pandas DataFrame, print the number of rows in the DataFrame, and display the first 10 rows."
   ]
  },
  {
   "cell_type": "markdown",
   "id": "314bd884",
   "metadata": {},
   "source": [
    "### 1. Which establishments have a hygiene score equal to 20?"
   ]
  },
  {
   "cell_type": "code",
   "execution_count": null,
   "id": "c2da7648",
   "metadata": {},
   "outputs": [],
   "source": [
    "# Find the establishments with a hygiene score of 20\n",
    "query = {'hygiene_score': 20}\n",
    "\n",
    "# Use count_documents to display the number of documents in the result\n",
    "count = db['establishments'].count_documents(query)\n",
    "print(f'Number of establishments with the hygiene score of 20: {count}')\n",
    "# Display the first document in the results using pprint\n",
    "first_document = db['establishments'].find_one(query)\n",
    "if first_document:\n",
    "    pprint(first_document)\n",
    "else:\n",
    "    print('No Establishments with hygiene score of 20 found')"
   ]
  },
  {
   "cell_type": "code",
   "execution_count": null,
   "id": "a6e5cece",
   "metadata": {},
   "outputs": [],
   "source": [
    "# Convert the result to a Pandas DataFrame\n",
    "cursor = db['establishments'].find(query).limit(10)\n",
    "df = pd.DataFrame(list(cursor))\n",
    "# Display the number of rows in the DataFrame\n",
    "num_rows = len(df)\n",
    "print(f'Number of rows in the DataFrame: {num_rows}')\n",
    "# Display the first 10 rows of the DataFrame\n",
    "print(df.head(10))"
   ]
  },
  {
   "cell_type": "markdown",
   "id": "0ef4395a",
   "metadata": {},
   "source": [
    "### 2. Which establishments in London have a `RatingValue` greater than or equal to 4?"
   ]
  },
  {
   "cell_type": "code",
   "execution_count": null,
   "id": "93c63829",
   "metadata": {},
   "outputs": [],
   "source": [
    "# Find the establishments with London as the Local Authority and has a RatingValue greater than or equal to 4.\n",
    "query = {\n",
    "    'LocalAuthorityDistrictName': 'London',\n",
    "    'RatingValue': {'$gte': 4}\n",
    "}\n",
    "\n",
    "# Use count_documents to display the number of documents in the result\n",
    "count = db['establishments'].count_documents(query)\n",
    "print(f'Number of establishments in London with a RatingValue >= 4: {count}')\n",
    "# Display the first document in the results using pprint\n",
    "first_document = db['establishments'].find_one(query)\n",
    "if first_document:\n",
    "    pprint(first_document)\n",
    "else:\n",
    "    print(\"No matching establishments found.\")"
   ]
  },
  {
   "cell_type": "code",
   "execution_count": null,
   "id": "07e24ccb",
   "metadata": {},
   "outputs": [],
   "source": [
    "# Convert the result to a Pandas DataFrame\n",
    "import pandas as pd\n",
    "cursor = db['establishments'].find(query).limit(10)\n",
    "df = pd.DataFrame(list(cursor))\n",
    "# Display the number of rows in the DataFrame\n",
    "num_rows = len(df)\n",
    "print(f\"Number of rows in the DataFrame: {num_rows}\")\n",
    "# Display the first 10 rows of the DataFrame\n",
    "print(df.head(10))"
   ]
  },
  {
   "cell_type": "markdown",
   "id": "4e570caf",
   "metadata": {},
   "source": [
    "### 3. What are the top 5 establishments with a `RatingValue` rating value of 5, sorted by lowest hygiene score, nearest to the new restaurant added, \"Penang Flavours\"?"
   ]
  },
  {
   "cell_type": "code",
   "execution_count": null,
   "id": "7f599f3d",
   "metadata": {},
   "outputs": [],
   "source": [
    "# Search within 0.01 degree on either side of the latitude and longitude.\n",
    "# Rating value must equal 5\n",
    "# Sort by hygiene score\n",
    "\n",
    "degree_search = 0.01\n",
    "latitude = \n",
    "longitude = \n",
    "\n",
    "query = {\n",
    "    'RatingValue': 5,\n",
    "    'location': {\n",
    "        '$geoWithin': {\n",
    "            '$box': [\n",
    "                [longitude - degree_search, latitude - degree_search],\n",
    "                [longitude + degree_search, latitude + degree_search]\n",
    "            ]\n",
    "        }\n",
    "    }\n",
    "}\n",
    "sort =  [('hygiene_score', 1)]\n",
    "cursor = db['establishments'].find(query).sort(sort)\n",
    "# Print the results\n",
    "print(db)"
   ]
  },
  {
   "cell_type": "code",
   "execution_count": null,
   "id": "a6ad16f7",
   "metadata": {},
   "outputs": [],
   "source": [
    "# Convert result to Pandas DataFrame\n",
    "import pandas as pd\n",
    "df = pd.DataFrame(list(cursor))\n",
    "print(df)"
   ]
  },
  {
   "cell_type": "markdown",
   "id": "67281254",
   "metadata": {},
   "source": [
    "### 4. How many establishments in each Local Authority area have a hygiene score of 0?"
   ]
  },
  {
   "cell_type": "code",
   "execution_count": null,
   "id": "4eeb227e",
   "metadata": {},
   "outputs": [],
   "source": [
    "# Create a pipeline that: \n",
    "# 1. Matches establishments with a hygiene score of 0\n",
    "# 2. Groups the matches by Local Authority\n",
    "# 3. Sorts the matches from highest to lowest\n",
    "pipeline = [\n",
    "    {\"$match\": {\"hygiene_score\": 0}},  # Match establishments with a hygiene score of 0\n",
    "    {\"$group\": {\"_id\": \"$LocalAuthorityName\", \"count\": {\"$sum\": 1}}},  # Group by Local Authority\n",
    "    {\"$sort\": {\"count\": -1}}  # Sort by count in descending order (highest to lowest)\n",
    "]\n",
    "result = list(db['your_collection_name'].aggregate(pipeline))\n",
    "# Print the number of documents in the result\n",
    "print(f\"Number of documents in the result: {len(result)}\")\n",
    "# Print the first 10 results\n",
    "print(\"Top 10 results:\")\n",
    "for i, doc in enumerate(result[:10], start=1):\n",
    "    print(f\"{i}. Local Authority: {doc['_id']}, Count: {doc['count']}\")"
   ]
  },
  {
   "cell_type": "code",
   "execution_count": null,
   "id": "d8aab364",
   "metadata": {},
   "outputs": [],
   "source": [
    "# Convert the result to a Pandas DataFrame\n",
    "import pandas as pd\n",
    "df = pd.DataFrame(result)\n",
    "# Display the number of rows in the DataFrame\n",
    "num_rows = len(df)\n",
    "print(f\"Number of rows in the DataFrame: {num_rows}\")\n",
    "# Display the first 10 rows of the DataFrame\n",
    "print(\"Top 10 rows of the DataFrame:\")\n",
    "print(df.head(10))"
   ]
  }
 ],
 "metadata": {
  "kernelspec": {
   "display_name": "Python 3 (ipykernel)",
   "language": "python",
   "name": "python3"
  },
  "language_info": {
   "codemirror_mode": {
    "name": "ipython",
    "version": 3
   },
   "file_extension": ".py",
   "mimetype": "text/x-python",
   "name": "python",
   "nbconvert_exporter": "python",
   "pygments_lexer": "ipython3",
   "version": "3.10.9"
  }
 },
 "nbformat": 4,
 "nbformat_minor": 5
}
